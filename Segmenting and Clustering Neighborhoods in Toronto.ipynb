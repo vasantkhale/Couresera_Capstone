{
    "cells": [
        {
            "metadata": {
                "collapsed": true
            },
            "cell_type": "markdown",
            "source": "Notebook Created\n"
        },
        {
            "metadata": {},
            "cell_type": "code",
            "source": "import numpy as np \nimport pandas as pd \nimport requests \n\nprint('Libraries imported.')",
            "execution_count": 117,
            "outputs": [
                {
                    "output_type": "stream",
                    "text": "Libraries imported.\n",
                    "name": "stdout"
                }
            ]
        },
        {
            "metadata": {},
            "cell_type": "code",
            "source": "import requests\nfrom urllib.request import urlopen\nfrom bs4 import BeautifulSoup\nimport ssl\nimport csv\n\nprint('BeautifulSoup  & csv imported.')\nctx = ssl.create_default_context()\nctx.check_hostname = False\nctx.verify_mode = ssl.CERT_NONE\n",
            "execution_count": 118,
            "outputs": [
                {
                    "output_type": "stream",
                    "text": "BeautifulSoup  & csv imported.\n",
                    "name": "stdout"
                }
            ]
        },
        {
            "metadata": {},
            "cell_type": "code",
            "source": "source = requests.get('https://en.wikipedia.org/wiki/List_of_postal_codes_of_Canada:_M').text\n\nsoup = BeautifulSoup(source, 'lxml')\n\n#print(soup.prettify())\nprint('soup ready')",
            "execution_count": 119,
            "outputs": [
                {
                    "output_type": "stream",
                    "text": "soup ready\n",
                    "name": "stdout"
                }
            ]
        },
        {
            "metadata": {},
            "cell_type": "code",
            "source": "table = soup.find('table',{'class':'wikitable sortable'})\ntable_rows = table.find_all('tr')",
            "execution_count": 120,
            "outputs": []
        },
        {
            "metadata": {},
            "cell_type": "code",
            "source": "data = []\nfor row in table_rows:\n    data.append([t.text.strip() for t in row.find_all('td')])\n\ndf = pd.DataFrame(data, columns=['PostalCode', 'Borough', 'Neighbourhood'])\ndf = df[~df['PostalCode'].isnull()]  ",
            "execution_count": 121,
            "outputs": []
        },
        {
            "metadata": {},
            "cell_type": "code",
            "source": "print(df.head(5))",
            "execution_count": 122,
            "outputs": [
                {
                    "output_type": "stream",
                    "text": "  PostalCode           Borough              Neighbourhood\n1        M1A      Not assigned                           \n2        M2A      Not assigned                           \n3        M3A        North York                  Parkwoods\n4        M4A        North York           Victoria Village\n5        M5A  Downtown Toronto  Regent Park, Harbourfront\n",
                    "name": "stdout"
                }
            ]
        },
        {
            "metadata": {},
            "cell_type": "code",
            "source": "import pandas\nimport requests\nfrom bs4 import BeautifulSoup\nwebsite_text = requests.get('https://en.wikipedia.org/wiki/List_of_postal_codes_of_Canada:_M').text\nsoup = BeautifulSoup(website_text,'lxml')\n\ntable = soup.find('table',{'class':'wikitable sortable'})\ntable_rows = table.find_all('tr')\n\ndata = []\nfor row in table_rows:\n    data.append([t.text.strip() for t in row.find_all('td')])\n\ndf = pandas.DataFrame(data, columns=['PostalCode', 'Borough', 'Neighbourhood'])\ndf = df[~df['PostalCode'].isnull()]",
            "execution_count": 123,
            "outputs": []
        },
        {
            "metadata": {},
            "cell_type": "code",
            "source": "df.drop(df[df['Borough']==\"Not assigned\"].index,axis=0, inplace=True)\ndf.head()",
            "execution_count": 124,
            "outputs": [
                {
                    "output_type": "execute_result",
                    "execution_count": 124,
                    "data": {
                        "text/plain": "  PostalCode           Borough                                Neighbourhood\n3        M3A        North York                                    Parkwoods\n4        M4A        North York                             Victoria Village\n5        M5A  Downtown Toronto                    Regent Park, Harbourfront\n6        M6A        North York             Lawrence Manor, Lawrence Heights\n7        M7A  Downtown Toronto  Queen's Park, Ontario Provincial Government",
                        "text/html": "<div>\n<style scoped>\n    .dataframe tbody tr th:only-of-type {\n        vertical-align: middle;\n    }\n\n    .dataframe tbody tr th {\n        vertical-align: top;\n    }\n\n    .dataframe thead th {\n        text-align: right;\n    }\n</style>\n<table border=\"1\" class=\"dataframe\">\n  <thead>\n    <tr style=\"text-align: right;\">\n      <th></th>\n      <th>PostalCode</th>\n      <th>Borough</th>\n      <th>Neighbourhood</th>\n    </tr>\n  </thead>\n  <tbody>\n    <tr>\n      <th>3</th>\n      <td>M3A</td>\n      <td>North York</td>\n      <td>Parkwoods</td>\n    </tr>\n    <tr>\n      <th>4</th>\n      <td>M4A</td>\n      <td>North York</td>\n      <td>Victoria Village</td>\n    </tr>\n    <tr>\n      <th>5</th>\n      <td>M5A</td>\n      <td>Downtown Toronto</td>\n      <td>Regent Park, Harbourfront</td>\n    </tr>\n    <tr>\n      <th>6</th>\n      <td>M6A</td>\n      <td>North York</td>\n      <td>Lawrence Manor, Lawrence Heights</td>\n    </tr>\n    <tr>\n      <th>7</th>\n      <td>M7A</td>\n      <td>Downtown Toronto</td>\n      <td>Queen's Park, Ontario Provincial Government</td>\n    </tr>\n  </tbody>\n</table>\n</div>"
                    },
                    "metadata": {}
                }
            ]
        },
        {
            "metadata": {},
            "cell_type": "code",
            "source": "df.info()",
            "execution_count": 125,
            "outputs": [
                {
                    "output_type": "stream",
                    "text": "<class 'pandas.core.frame.DataFrame'>\nInt64Index: 103 entries, 3 to 179\nData columns (total 3 columns):\nPostalCode       103 non-null object\nBorough          103 non-null object\nNeighbourhood    103 non-null object\ndtypes: object(3)\nmemory usage: 3.2+ KB\n",
                    "name": "stdout"
                }
            ]
        },
        {
            "metadata": {},
            "cell_type": "code",
            "source": "df.shape",
            "execution_count": 126,
            "outputs": [
                {
                    "output_type": "execute_result",
                    "execution_count": 126,
                    "data": {
                        "text/plain": "(103, 3)"
                    },
                    "metadata": {}
                }
            ]
        },
        {
            "metadata": {},
            "cell_type": "code",
            "source": "df1 = df.reset_index()\n",
            "execution_count": 127,
            "outputs": []
        },
        {
            "metadata": {},
            "cell_type": "code",
            "source": "df1.info()",
            "execution_count": 128,
            "outputs": [
                {
                    "output_type": "stream",
                    "text": "<class 'pandas.core.frame.DataFrame'>\nRangeIndex: 103 entries, 0 to 102\nData columns (total 4 columns):\nindex            103 non-null int64\nPostalCode       103 non-null object\nBorough          103 non-null object\nNeighbourhood    103 non-null object\ndtypes: int64(1), object(3)\nmemory usage: 3.3+ KB\n",
                    "name": "stdout"
                }
            ]
        },
        {
            "metadata": {},
            "cell_type": "code",
            "source": "df1.shape\ndf2= df1.groupby('PostalCode').agg(lambda x: ','.join(x))\ndf2.head()\ndf2.info()",
            "execution_count": 129,
            "outputs": [
                {
                    "output_type": "stream",
                    "text": "<class 'pandas.core.frame.DataFrame'>\nIndex: 103 entries, M1B to M9W\nData columns (total 2 columns):\nBorough          103 non-null object\nNeighbourhood    103 non-null object\ndtypes: object(2)\nmemory usage: 2.4+ KB\n",
                    "name": "stdout"
                }
            ]
        },
        {
            "metadata": {},
            "cell_type": "code",
            "source": "df2.loc[df2['Neighbourhood']==\"Not assigned\",'Neighbourhood']=df2.loc[df2['Neighbourhood']==\"Not assigned\",'Borough']\n\ndf2.head()",
            "execution_count": 130,
            "outputs": [
                {
                    "output_type": "execute_result",
                    "execution_count": 130,
                    "data": {
                        "text/plain": "                Borough                           Neighbourhood\nPostalCode                                                     \nM1B         Scarborough                          Malvern, Rouge\nM1C         Scarborough  Rouge Hill, Port Union, Highland Creek\nM1E         Scarborough       Guildwood, Morningside, West Hill\nM1G         Scarborough                                  Woburn\nM1H         Scarborough                               Cedarbrae",
                        "text/html": "<div>\n<style scoped>\n    .dataframe tbody tr th:only-of-type {\n        vertical-align: middle;\n    }\n\n    .dataframe tbody tr th {\n        vertical-align: top;\n    }\n\n    .dataframe thead th {\n        text-align: right;\n    }\n</style>\n<table border=\"1\" class=\"dataframe\">\n  <thead>\n    <tr style=\"text-align: right;\">\n      <th></th>\n      <th>Borough</th>\n      <th>Neighbourhood</th>\n    </tr>\n    <tr>\n      <th>PostalCode</th>\n      <th></th>\n      <th></th>\n    </tr>\n  </thead>\n  <tbody>\n    <tr>\n      <th>M1B</th>\n      <td>Scarborough</td>\n      <td>Malvern, Rouge</td>\n    </tr>\n    <tr>\n      <th>M1C</th>\n      <td>Scarborough</td>\n      <td>Rouge Hill, Port Union, Highland Creek</td>\n    </tr>\n    <tr>\n      <th>M1E</th>\n      <td>Scarborough</td>\n      <td>Guildwood, Morningside, West Hill</td>\n    </tr>\n    <tr>\n      <th>M1G</th>\n      <td>Scarborough</td>\n      <td>Woburn</td>\n    </tr>\n    <tr>\n      <th>M1H</th>\n      <td>Scarborough</td>\n      <td>Cedarbrae</td>\n    </tr>\n  </tbody>\n</table>\n</div>"
                    },
                    "metadata": {}
                }
            ]
        },
        {
            "metadata": {},
            "cell_type": "code",
            "source": "df3 = df2.reset_index()\ndf3['Borough']= df3['Borough'].str.replace('nan|[{}\\s]','').str.split(',').apply(set).str.join(',').str.strip(',').str.replace(\",{2,}\",\",\")",
            "execution_count": 131,
            "outputs": []
        },
        {
            "metadata": {},
            "cell_type": "code",
            "source": "df3.head()",
            "execution_count": 132,
            "outputs": [
                {
                    "output_type": "execute_result",
                    "execution_count": 132,
                    "data": {
                        "text/plain": "  PostalCode      Borough                           Neighbourhood\n0        M1B  Scarborough                          Malvern, Rouge\n1        M1C  Scarborough  Rouge Hill, Port Union, Highland Creek\n2        M1E  Scarborough       Guildwood, Morningside, West Hill\n3        M1G  Scarborough                                  Woburn\n4        M1H  Scarborough                               Cedarbrae",
                        "text/html": "<div>\n<style scoped>\n    .dataframe tbody tr th:only-of-type {\n        vertical-align: middle;\n    }\n\n    .dataframe tbody tr th {\n        vertical-align: top;\n    }\n\n    .dataframe thead th {\n        text-align: right;\n    }\n</style>\n<table border=\"1\" class=\"dataframe\">\n  <thead>\n    <tr style=\"text-align: right;\">\n      <th></th>\n      <th>PostalCode</th>\n      <th>Borough</th>\n      <th>Neighbourhood</th>\n    </tr>\n  </thead>\n  <tbody>\n    <tr>\n      <th>0</th>\n      <td>M1B</td>\n      <td>Scarborough</td>\n      <td>Malvern, Rouge</td>\n    </tr>\n    <tr>\n      <th>1</th>\n      <td>M1C</td>\n      <td>Scarborough</td>\n      <td>Rouge Hill, Port Union, Highland Creek</td>\n    </tr>\n    <tr>\n      <th>2</th>\n      <td>M1E</td>\n      <td>Scarborough</td>\n      <td>Guildwood, Morningside, West Hill</td>\n    </tr>\n    <tr>\n      <th>3</th>\n      <td>M1G</td>\n      <td>Scarborough</td>\n      <td>Woburn</td>\n    </tr>\n    <tr>\n      <th>4</th>\n      <td>M1H</td>\n      <td>Scarborough</td>\n      <td>Cedarbrae</td>\n    </tr>\n  </tbody>\n</table>\n</div>"
                    },
                    "metadata": {}
                }
            ]
        },
        {
            "metadata": {},
            "cell_type": "code",
            "source": "df.info()",
            "execution_count": 133,
            "outputs": [
                {
                    "output_type": "stream",
                    "text": "<class 'pandas.core.frame.DataFrame'>\nInt64Index: 103 entries, 3 to 179\nData columns (total 3 columns):\nPostalCode       103 non-null object\nBorough          103 non-null object\nNeighbourhood    103 non-null object\ndtypes: object(3)\nmemory usage: 3.2+ KB\n",
                    "name": "stdout"
                }
            ]
        },
        {
            "metadata": {},
            "cell_type": "markdown",
            "source": "###### Q-2 Notebook on Github Repository "
        },
        {
            "metadata": {},
            "cell_type": "code",
            "source": "pip install geopy",
            "execution_count": 134,
            "outputs": [
                {
                    "output_type": "stream",
                    "text": "\nThe following command must be run outside of the IPython shell:\n\n    $ pip install geopy\n\nThe Python package manager (pip) can only be used from outside of IPython.\nPlease reissue the `pip` command in a separate terminal or command prompt.\n\nSee the Python documentation for more information on how to install packages:\n\n    https://docs.python.org/3/installing/\n",
                    "name": "stdout"
                }
            ]
        },
        {
            "metadata": {},
            "cell_type": "code",
            "source": "from  geopy.geocoders import Nominatim\ngeolocator = Nominatim()\ncity =\"London\"\ncountry =\"Uk\"\nloc = geolocator.geocode(city+','+ country)\nprint(\"latitude is :-\" ,loc.latitude,\"\\nlongtitude is:-\" ,loc.longitude)",
            "execution_count": 135,
            "outputs": [
                {
                    "output_type": "stream",
                    "text": "latitude is :- 51.5073219 \nlongtitude is:- -0.1276474\n",
                    "name": "stdout"
                },
                {
                    "output_type": "stream",
                    "text": "/opt/conda/envs/Python36/lib/python3.6/site-packages/ipykernel/__main__.py:2: DeprecationWarning: Using Nominatim with the default \"geopy/1.18.1\" `user_agent` is strongly discouraged, as it violates Nominatim's ToS https://operations.osmfoundation.org/policies/nominatim/ and may possibly cause 403 and 429 HTTP errors. Please specify a custom `user_agent` with `Nominatim(user_agent=\"my-application\")` or by overriding the default `user_agent`: `geopy.geocoders.options.default_user_agent = \"my-application\"`. In geopy 2.0 this will become an exception.\n  from ipykernel import kernelapp as app\n",
                    "name": "stderr"
                }
            ]
        },
        {
            "metadata": {},
            "cell_type": "code",
            "source": "from  geopy.geocoders import Nominatim\ngeolocator = Nominatim()\nlocation = geolocator.geocode(\"Toronto, North York, Parkwoods\")\n\nprint(location.address)\nprint('')\nprint((location.latitude, location.longitude))\nprint('')\nprint(location.raw)",
            "execution_count": 136,
            "outputs": [
                {
                    "output_type": "stream",
                    "text": "/opt/conda/envs/Python36/lib/python3.6/site-packages/ipykernel/__main__.py:2: DeprecationWarning: Using Nominatim with the default \"geopy/1.18.1\" `user_agent` is strongly discouraged, as it violates Nominatim's ToS https://operations.osmfoundation.org/policies/nominatim/ and may possibly cause 403 and 429 HTTP errors. Please specify a custom `user_agent` with `Nominatim(user_agent=\"my-application\")` or by overriding the default `user_agent`: `geopy.geocoders.options.default_user_agent = \"my-application\"`. In geopy 2.0 this will become an exception.\n  from ipykernel import kernelapp as app\n",
                    "name": "stderr"
                },
                {
                    "output_type": "stream",
                    "text": "Parkwoods Village Drive, Parkway East, Don Valley East, North York, Toronto, Golden Horseshoe, Ontario, M3A 2X2, Canada\n\n(43.7587999, -79.3201966)\n\n{'place_id': 124974741, 'licence': 'Data \u00a9 OpenStreetMap contributors, ODbL 1.0. https://osm.org/copyright', 'osm_type': 'way', 'osm_id': 160406961, 'boundingbox': ['43.7576231', '43.761106', '-79.3239088', '-79.316215'], 'lat': '43.7587999', 'lon': '-79.3201966', 'display_name': 'Parkwoods Village Drive, Parkway East, Don Valley East, North York, Toronto, Golden Horseshoe, Ontario, M3A 2X2, Canada', 'class': 'highway', 'type': 'secondary', 'importance': 0.51}\n",
                    "name": "stdout"
                }
            ]
        },
        {
            "metadata": {},
            "cell_type": "code",
            "source": "import pandas as pd\ndf_geopy = pd.DataFrame({'PostalCode': ['M3A', 'M4A', 'M5A'],\n                         'Borough': ['North York', 'North York', 'Downtown Toronto'],\n                         'Neighbourhood': ['Parkwoods', 'Victoria Village', 'Harbourfront'],})\n\nfrom geopy.geocoders import Nominatim\ngeolocator = Nominatim()",
            "execution_count": 137,
            "outputs": [
                {
                    "output_type": "stream",
                    "text": "/opt/conda/envs/Python36/lib/python3.6/site-packages/ipykernel/__main__.py:7: DeprecationWarning: Using Nominatim with the default \"geopy/1.18.1\" `user_agent` is strongly discouraged, as it violates Nominatim's ToS https://operations.osmfoundation.org/policies/nominatim/ and may possibly cause 403 and 429 HTTP errors. Please specify a custom `user_agent` with `Nominatim(user_agent=\"my-application\")` or by overriding the default `user_agent`: `geopy.geocoders.options.default_user_agent = \"my-application\"`. In geopy 2.0 this will become an exception.\n",
                    "name": "stderr"
                }
            ]
        },
        {
            "metadata": {},
            "cell_type": "code",
            "source": "df_geopy1 = df3",
            "execution_count": 138,
            "outputs": []
        },
        {
            "metadata": {},
            "cell_type": "code",
            "source": "from geopy.geocoders import Nominatim\ngeolocator = Nominatim()\n\ndf_geopy1['address'] = df3[['PostalCode', 'Borough', 'Neighbourhood']].apply(lambda x: ', '.join(x), axis=1 )\ndf_geopy1.head()",
            "execution_count": 139,
            "outputs": [
                {
                    "output_type": "stream",
                    "text": "/opt/conda/envs/Python36/lib/python3.6/site-packages/ipykernel/__main__.py:2: DeprecationWarning: Using Nominatim with the default \"geopy/1.18.1\" `user_agent` is strongly discouraged, as it violates Nominatim's ToS https://operations.osmfoundation.org/policies/nominatim/ and may possibly cause 403 and 429 HTTP errors. Please specify a custom `user_agent` with `Nominatim(user_agent=\"my-application\")` or by overriding the default `user_agent`: `geopy.geocoders.options.default_user_agent = \"my-application\"`. In geopy 2.0 this will become an exception.\n  from ipykernel import kernelapp as app\n",
                    "name": "stderr"
                },
                {
                    "output_type": "execute_result",
                    "execution_count": 139,
                    "data": {
                        "text/plain": "  PostalCode      Borough                           Neighbourhood  \\\n0        M1B  Scarborough                          Malvern, Rouge   \n1        M1C  Scarborough  Rouge Hill, Port Union, Highland Creek   \n2        M1E  Scarborough       Guildwood, Morningside, West Hill   \n3        M1G  Scarborough                                  Woburn   \n4        M1H  Scarborough                               Cedarbrae   \n\n                                             address  \n0                   M1B, Scarborough, Malvern, Rouge  \n1  M1C, Scarborough, Rouge Hill, Port Union, High...  \n2  M1E, Scarborough, Guildwood, Morningside, West...  \n3                           M1G, Scarborough, Woburn  \n4                        M1H, Scarborough, Cedarbrae  ",
                        "text/html": "<div>\n<style scoped>\n    .dataframe tbody tr th:only-of-type {\n        vertical-align: middle;\n    }\n\n    .dataframe tbody tr th {\n        vertical-align: top;\n    }\n\n    .dataframe thead th {\n        text-align: right;\n    }\n</style>\n<table border=\"1\" class=\"dataframe\">\n  <thead>\n    <tr style=\"text-align: right;\">\n      <th></th>\n      <th>PostalCode</th>\n      <th>Borough</th>\n      <th>Neighbourhood</th>\n      <th>address</th>\n    </tr>\n  </thead>\n  <tbody>\n    <tr>\n      <th>0</th>\n      <td>M1B</td>\n      <td>Scarborough</td>\n      <td>Malvern, Rouge</td>\n      <td>M1B, Scarborough, Malvern, Rouge</td>\n    </tr>\n    <tr>\n      <th>1</th>\n      <td>M1C</td>\n      <td>Scarborough</td>\n      <td>Rouge Hill, Port Union, Highland Creek</td>\n      <td>M1C, Scarborough, Rouge Hill, Port Union, High...</td>\n    </tr>\n    <tr>\n      <th>2</th>\n      <td>M1E</td>\n      <td>Scarborough</td>\n      <td>Guildwood, Morningside, West Hill</td>\n      <td>M1E, Scarborough, Guildwood, Morningside, West...</td>\n    </tr>\n    <tr>\n      <th>3</th>\n      <td>M1G</td>\n      <td>Scarborough</td>\n      <td>Woburn</td>\n      <td>M1G, Scarborough, Woburn</td>\n    </tr>\n    <tr>\n      <th>4</th>\n      <td>M1H</td>\n      <td>Scarborough</td>\n      <td>Cedarbrae</td>\n      <td>M1H, Scarborough, Cedarbrae</td>\n    </tr>\n  </tbody>\n</table>\n</div>"
                    },
                    "metadata": {}
                }
            ]
        },
        {
            "metadata": {},
            "cell_type": "code",
            "source": "df_geopy1 = df3\ndf_geopy1.shape",
            "execution_count": 140,
            "outputs": [
                {
                    "output_type": "execute_result",
                    "execution_count": 140,
                    "data": {
                        "text/plain": "(103, 4)"
                    },
                    "metadata": {}
                }
            ]
        },
        {
            "metadata": {},
            "cell_type": "code",
            "source": "df_geopy1.info()",
            "execution_count": 141,
            "outputs": [
                {
                    "output_type": "stream",
                    "text": "<class 'pandas.core.frame.DataFrame'>\nRangeIndex: 103 entries, 0 to 102\nData columns (total 4 columns):\nPostalCode       103 non-null object\nBorough          103 non-null object\nNeighbourhood    103 non-null object\naddress          103 non-null object\ndtypes: object(4)\nmemory usage: 3.3+ KB\n",
                    "name": "stdout"
                }
            ]
        },
        {
            "metadata": {},
            "cell_type": "code",
            "source": "df_geopy1.drop(df_geopy1[df_geopy1['Borough']==\"Notassigned\"].index,axis=0, inplace=True)\n\ndf_geopy1.info()",
            "execution_count": 142,
            "outputs": [
                {
                    "output_type": "stream",
                    "text": "<class 'pandas.core.frame.DataFrame'>\nInt64Index: 103 entries, 0 to 102\nData columns (total 4 columns):\nPostalCode       103 non-null object\nBorough          103 non-null object\nNeighbourhood    103 non-null object\naddress          103 non-null object\ndtypes: object(4)\nmemory usage: 4.0+ KB\n",
                    "name": "stdout"
                }
            ]
        },
        {
            "metadata": {},
            "cell_type": "code",
            "source": "df_geopy1.shape",
            "execution_count": 143,
            "outputs": [
                {
                    "output_type": "execute_result",
                    "execution_count": 143,
                    "data": {
                        "text/plain": "(103, 4)"
                    },
                    "metadata": {}
                }
            ]
        },
        {
            "metadata": {},
            "cell_type": "code",
            "source": "df_geopy1.head()",
            "execution_count": 144,
            "outputs": [
                {
                    "output_type": "execute_result",
                    "execution_count": 144,
                    "data": {
                        "text/plain": "  PostalCode      Borough                           Neighbourhood  \\\n0        M1B  Scarborough                          Malvern, Rouge   \n1        M1C  Scarborough  Rouge Hill, Port Union, Highland Creek   \n2        M1E  Scarborough       Guildwood, Morningside, West Hill   \n3        M1G  Scarborough                                  Woburn   \n4        M1H  Scarborough                               Cedarbrae   \n\n                                             address  \n0                   M1B, Scarborough, Malvern, Rouge  \n1  M1C, Scarborough, Rouge Hill, Port Union, High...  \n2  M1E, Scarborough, Guildwood, Morningside, West...  \n3                           M1G, Scarborough, Woburn  \n4                        M1H, Scarborough, Cedarbrae  ",
                        "text/html": "<div>\n<style scoped>\n    .dataframe tbody tr th:only-of-type {\n        vertical-align: middle;\n    }\n\n    .dataframe tbody tr th {\n        vertical-align: top;\n    }\n\n    .dataframe thead th {\n        text-align: right;\n    }\n</style>\n<table border=\"1\" class=\"dataframe\">\n  <thead>\n    <tr style=\"text-align: right;\">\n      <th></th>\n      <th>PostalCode</th>\n      <th>Borough</th>\n      <th>Neighbourhood</th>\n      <th>address</th>\n    </tr>\n  </thead>\n  <tbody>\n    <tr>\n      <th>0</th>\n      <td>M1B</td>\n      <td>Scarborough</td>\n      <td>Malvern, Rouge</td>\n      <td>M1B, Scarborough, Malvern, Rouge</td>\n    </tr>\n    <tr>\n      <th>1</th>\n      <td>M1C</td>\n      <td>Scarborough</td>\n      <td>Rouge Hill, Port Union, Highland Creek</td>\n      <td>M1C, Scarborough, Rouge Hill, Port Union, High...</td>\n    </tr>\n    <tr>\n      <th>2</th>\n      <td>M1E</td>\n      <td>Scarborough</td>\n      <td>Guildwood, Morningside, West Hill</td>\n      <td>M1E, Scarborough, Guildwood, Morningside, West...</td>\n    </tr>\n    <tr>\n      <th>3</th>\n      <td>M1G</td>\n      <td>Scarborough</td>\n      <td>Woburn</td>\n      <td>M1G, Scarborough, Woburn</td>\n    </tr>\n    <tr>\n      <th>4</th>\n      <td>M1H</td>\n      <td>Scarborough</td>\n      <td>Cedarbrae</td>\n      <td>M1H, Scarborough, Cedarbrae</td>\n    </tr>\n  </tbody>\n</table>\n</div>"
                    },
                    "metadata": {}
                }
            ]
        },
        {
            "metadata": {},
            "cell_type": "code",
            "source": "df_geopy1.to_csv('geopy1.csv')",
            "execution_count": 145,
            "outputs": []
        },
        {
            "metadata": {},
            "cell_type": "code",
            "source": "from  geopy.geocoders import Nominatim\ngeolocator = Nominatim()\nlocation = geolocator.geocode(\"M1G, Scarborough, Woburn\")",
            "execution_count": 146,
            "outputs": [
                {
                    "output_type": "stream",
                    "text": "/opt/conda/envs/Python36/lib/python3.6/site-packages/ipykernel/__main__.py:2: DeprecationWarning: Using Nominatim with the default \"geopy/1.18.1\" `user_agent` is strongly discouraged, as it violates Nominatim's ToS https://operations.osmfoundation.org/policies/nominatim/ and may possibly cause 403 and 429 HTTP errors. Please specify a custom `user_agent` with `Nominatim(user_agent=\"my-application\")` or by overriding the default `user_agent`: `geopy.geocoders.options.default_user_agent = \"my-application\"`. In geopy 2.0 this will become an exception.\n  from ipykernel import kernelapp as app\n",
                    "name": "stderr"
                }
            ]
        },
        {
            "metadata": {},
            "cell_type": "code",
            "source": "print(location.address)\n\nprint((location.latitude, location.longitude))\n\nprint(location.raw)",
            "execution_count": 147,
            "outputs": [
                {
                    "output_type": "stream",
                    "text": "Woburn, Scarborough\u2014Guildwood, Scarborough, Toronto, Golden Horseshoe, Ontario, M1H 2A2, Canada\n(43.7598243, -79.2252908)\n{'place_id': 4761941, 'licence': 'Data \u00a9 OpenStreetMap contributors, ODbL 1.0. https://osm.org/copyright', 'osm_type': 'node', 'osm_id': 558715617, 'boundingbox': ['43.7597743', '43.7598743', '-79.2253408', '-79.2252408'], 'lat': '43.7598243', 'lon': '-79.2252908', 'display_name': 'Woburn, Scarborough\u2014Guildwood, Scarborough, Toronto, Golden Horseshoe, Ontario, M1H 2A2, Canada', 'class': 'place', 'type': 'neighbourhood', 'importance': 0.5588036674790013}\n",
                    "name": "stdout"
                }
            ]
        },
        {
            "metadata": {},
            "cell_type": "code",
            "source": "pip install geocoder",
            "execution_count": 148,
            "outputs": [
                {
                    "output_type": "stream",
                    "text": "\nThe following command must be run outside of the IPython shell:\n\n    $ pip install geocoder\n\nThe Python package manager (pip) can only be used from outside of IPython.\nPlease reissue the `pip` command in a separate terminal or command prompt.\n\nSee the Python documentation for more information on how to install packages:\n\n    https://docs.python.org/3/installing/\n",
                    "name": "stdout"
                }
            ]
        },
        {
            "metadata": {},
            "cell_type": "code",
            "source": "df3.to_csv('geopy.csv')",
            "execution_count": 149,
            "outputs": []
        },
        {
            "metadata": {},
            "cell_type": "code",
            "source": "import csv\n\nwith open('geopy.csv') as csvfile:\n     reader = csv.DictReader(csvfile)\n     for row in reader:\n         print(row['PostalCode'],row['Borough'], row['Neighbourhood'] )\nfrom  geopy.geocoders import Nominatim\ngeolocator = Nominatim()\nlocation = geolocator.geocode(\"M1B Scarborough Rouge,Malvern\")\n\n\n\n\n\n",
            "execution_count": 150,
            "outputs": [
                {
                    "output_type": "stream",
                    "text": "M1B Scarborough Malvern, Rouge\nM1C Scarborough Rouge Hill, Port Union, Highland Creek\nM1E Scarborough Guildwood, Morningside, West Hill\nM1G Scarborough Woburn\nM1H Scarborough Cedarbrae\nM1J Scarborough Scarborough Village\nM1K Scarborough Kennedy Park, Ionview, East Birchmount Park\nM1L Scarborough Golden Mile, Clairlea, Oakridge\nM1M Scarborough Cliffside, Cliffcrest, Scarborough Village West\nM1N Scarborough Birch Cliff, Cliffside West\nM1P Scarborough Dorset Park, Wexford Heights, Scarborough Town Centre\nM1R Scarborough Wexford, Maryvale\nM1S Scarborough Agincourt\nM1T Scarborough Clarks Corners, Tam O'Shanter, Sullivan\nM1V Scarborough Milliken, Agincourt North, Steeles East, L'Amoreaux East\nM1W Scarborough Steeles West, L'Amoreaux West\nM1X Scarborough Upper Rouge\nM2H NorthYork Hillcrest Village\nM2J NorthYork Fairview, Henry Farm, Oriole\nM2K NorthYork Bayview Village\nM2L NorthYork York Mills, Silver Hills\nM2M NorthYork Willowdale, Newtonbrook\nM2N NorthYork Willowdale\nM2P NorthYork York Mills West\nM2R NorthYork Willowdale\nM3A NorthYork Parkwoods\nM3B NorthYork Don Mills\nM3C NorthYork Don Mills\nM3H NorthYork Bathurst Manor, Wilson Heights, Downsview North\nM3J NorthYork Northwood Park, York University\nM3K NorthYork Downsview\nM3L NorthYork Downsview\nM3M NorthYork Downsview\nM3N NorthYork Downsview\nM4A NorthYork Victoria Village\nM4B EastYork Parkview Hill, Woodbine Gardens\nM4C EastYork Woodbine Heights\nM4E EastToronto The Beaches\nM4G EastYork Leaside\nM4H EastYork Thorncliffe Park\nM4J EastYork East Toronto\nM4K EastToronto The Danforth West, Riverdale\nM4L EastToronto India Bazaar, The Beaches West\nM4M EastToronto Studio District\nM4N CentralToronto Lawrence Park\nM4P CentralToronto Davisville North\nM4R CentralToronto North Toronto West\nM4S CentralToronto Davisville\nM4T CentralToronto Moore Park, Summerhill East\nM4V CentralToronto Summerhill West, Rathnelly, South Hill, Forest Hill SE, Deer Park\nM4W DowntownToronto Rosedale\nM4X DowntownToronto St. James Town, Cabbagetown\nM4Y DowntownToronto Church and Wellesley\nM5A DowntownToronto Regent Park, Harbourfront\nM5B DowntownToronto Garden District, Ryerson\nM5C DowntownToronto St. James Town\nM5E DowntownToronto Berczy Park\nM5G DowntownToronto Central Bay Street\nM5H DowntownToronto Richmond, Adelaide, King\nM5J DowntownToronto Harbourfront East, Union Station, Toronto Islands\nM5K DowntownToronto Toronto Dominion Centre, Design Exchange\nM5L DowntownToronto Commerce Court, Victoria Hotel\nM5M NorthYork Bedford Park, Lawrence Manor East\nM5N CentralToronto Roselawn\nM5P CentralToronto Forest Hill North & West\nM5R CentralToronto The Annex, North Midtown, Yorkville\nM5S DowntownToronto University of Toronto, Harbord\nM5T DowntownToronto Kensington Market, Chinatown, Grange Park\nM5V DowntownToronto CN Tower, King and Spadina, Railway Lands, Harbourfront West, Bathurst Quay, South Niagara, Island airport\nM5W DowntownToronto Stn A PO Boxes\nM5X DowntownToronto First Canadian Place, Underground city\nM6A NorthYork Lawrence Manor, Lawrence Heights\nM6B NorthYork Glencairn\nM6C York Humewood-Cedarvale\nM6E York Caledonia-Fairbanks\nM6G DowntownToronto Christie\nM6H WestToronto Dufferin, Dovercourt Village\nM6J WestToronto Little Portugal, Trinity\nM6K WestToronto Brockton, Parkdale Village, Exhibition Place\nM6L NorthYork North Park, Maple Leaf Park, Upwood Park\nM6M York Del Ray, Mount Dennis, Keelsdale and Silverthorn\nM6N York Runnymede, The Junction North\nM6P WestToronto High Park, The Junction South\nM6R WestToronto Parkdale, Roncesvalles\nM6S WestToronto Runnymede, Swansea\nM7A DowntownToronto Queen's Park, Ontario Provincial Government\nM7R Mississauga Canada Post Gateway Processing Centre\nM7Y EastToronto Business reply mail Processing Centre\nM8V Etobicoke New Toronto, Mimico South, Humber Bay Shores\nM8W Etobicoke Alderwood, Long Branch\nM8X Etobicoke The Kingsway, Montgomery Road, Old Mill North\nM8Y Etobicoke Old Mill South, King's Mill Park, Sunnylea, Humber Bay, Mimico NE, The Queensway East, Royal York South East, Kingsway Park South East\nM8Z Etobicoke Mimico NW, The Queensway West, South of Bloor, Kingsway Park South West, Royal York South West\nM9A Etobicoke Islington Avenue\nM9B Etobicoke West Deane Park, Princess Gardens, Martin Grove, Islington, Cloverdale\nM9C Etobicoke Eringate, Bloordale Gardens, Old Burnhamthorpe, Markland Wood\nM9L NorthYork Humber Summit\nM9M NorthYork Humberlea, Emery\nM9N York Weston\nM9P Etobicoke Westmount\nM9R Etobicoke Kingsview Village, St. Phillips, Martin Grove Gardens, Richview Gardens\nM9V Etobicoke South Steeles, Silverstone, Humbergate, Jamestown, Mount Olive, Beaumond Heights, Thistletown, Albion Gardens\nM9W Etobicoke Northwest\n",
                    "name": "stdout"
                },
                {
                    "output_type": "stream",
                    "text": "/opt/conda/envs/Python36/lib/python3.6/site-packages/ipykernel/__main__.py:8: DeprecationWarning: Using Nominatim with the default \"geopy/1.18.1\" `user_agent` is strongly discouraged, as it violates Nominatim's ToS https://operations.osmfoundation.org/policies/nominatim/ and may possibly cause 403 and 429 HTTP errors. Please specify a custom `user_agent` with `Nominatim(user_agent=\"my-application\")` or by overriding the default `user_agent`: `geopy.geocoders.options.default_user_agent = \"my-application\"`. In geopy 2.0 this will become an exception.\n",
                    "name": "stderr"
                }
            ]
        },
        {
            "metadata": {},
            "cell_type": "code",
            "source": "from  geopy.geocoders import Nominatim\ngeolocator = Nominatim()\nlocation = geolocator.geocode(\"Toronto, Highland Creek\")\n\nprint(location.address)\n\nprint((location.latitude, location.longitude))\n\nprint(location.raw)\n",
            "execution_count": 151,
            "outputs": [
                {
                    "output_type": "stream",
                    "text": "Highland Creek, Scarborough\u2014Rouge Park, Scarborough, Toronto, Golden Horseshoe, Ontario, M1C 4Y1, Canada\n(43.7901172, -79.1733344)\n{'place_id': 331238, 'licence': 'Data \u00a9 OpenStreetMap contributors, ODbL 1.0. https://osm.org/copyright', 'osm_type': 'node', 'osm_id': 139354747, 'boundingbox': ['43.7900672', '43.7901672', '-79.1733844', '-79.1732844'], 'lat': '43.7901172', 'lon': '-79.1733344', 'display_name': 'Highland Creek, Scarborough\u2014Rouge Park, Scarborough, Toronto, Golden Horseshoe, Ontario, M1C 4Y1, Canada', 'class': 'place', 'type': 'neighbourhood', 'importance': 0.6480411950818732}\n",
                    "name": "stdout"
                },
                {
                    "output_type": "stream",
                    "text": "/opt/conda/envs/Python36/lib/python3.6/site-packages/ipykernel/__main__.py:2: DeprecationWarning: Using Nominatim with the default \"geopy/1.18.1\" `user_agent` is strongly discouraged, as it violates Nominatim's ToS https://operations.osmfoundation.org/policies/nominatim/ and may possibly cause 403 and 429 HTTP errors. Please specify a custom `user_agent` with `Nominatim(user_agent=\"my-application\")` or by overriding the default `user_agent`: `geopy.geocoders.options.default_user_agent = \"my-application\"`. In geopy 2.0 this will become an exception.\n  from ipykernel import kernelapp as app\n",
                    "name": "stderr"
                }
            ]
        },
        {
            "metadata": {},
            "cell_type": "markdown",
            "source": "## Retrieve coordinates with Lambda"
        },
        {
            "metadata": {},
            "cell_type": "code",
            "source": "import pandas, os\n#os.listdir()\ndf_geopy=df3\n#df_geopy.head()\nimport geopy\n#dir(geopy)\ntype(df_geopy)\npandas.core.frame.DataFrame\ndf_geopy.info()",
            "execution_count": 152,
            "outputs": [
                {
                    "output_type": "stream",
                    "text": "<class 'pandas.core.frame.DataFrame'>\nInt64Index: 103 entries, 0 to 102\nData columns (total 4 columns):\nPostalCode       103 non-null object\nBorough          103 non-null object\nNeighbourhood    103 non-null object\naddress          103 non-null object\ndtypes: object(4)\nmemory usage: 4.0+ KB\n",
                    "name": "stdout"
                }
            ]
        },
        {
            "metadata": {},
            "cell_type": "markdown",
            "source": "###### Import Geopy"
        },
        {
            "metadata": {},
            "cell_type": "code",
            "source": "pip install geopy",
            "execution_count": 153,
            "outputs": [
                {
                    "output_type": "stream",
                    "text": "\nThe following command must be run outside of the IPython shell:\n\n    $ pip install geopy\n\nThe Python package manager (pip) can only be used from outside of IPython.\nPlease reissue the `pip` command in a separate terminal or command prompt.\n\nSee the Python documentation for more information on how to install packages:\n\n    https://docs.python.org/3/installing/\n",
                    "name": "stdout"
                }
            ]
        },
        {
            "metadata": {},
            "cell_type": "code",
            "source": "from geopy.geocoders import Nominatim\nprint('Nominatim imported')",
            "execution_count": 154,
            "outputs": [
                {
                    "output_type": "stream",
                    "text": "Nominatim imported\n",
                    "name": "stdout"
                }
            ]
        },
        {
            "metadata": {},
            "cell_type": "code",
            "source": "\ndf_geopy['address']=df_geopy['PostalCode'] + ',' + df_geopy['Borough'] + ','+ df_geopy['Neighbourhood']\ndf_geopy.head()",
            "execution_count": 155,
            "outputs": [
                {
                    "output_type": "execute_result",
                    "execution_count": 155,
                    "data": {
                        "text/plain": "  PostalCode      Borough                           Neighbourhood  \\\n0        M1B  Scarborough                          Malvern, Rouge   \n1        M1C  Scarborough  Rouge Hill, Port Union, Highland Creek   \n2        M1E  Scarborough       Guildwood, Morningside, West Hill   \n3        M1G  Scarborough                                  Woburn   \n4        M1H  Scarborough                               Cedarbrae   \n\n                                             address  \n0                     M1B,Scarborough,Malvern, Rouge  \n1  M1C,Scarborough,Rouge Hill, Port Union, Highla...  \n2  M1E,Scarborough,Guildwood, Morningside, West Hill  \n3                             M1G,Scarborough,Woburn  \n4                          M1H,Scarborough,Cedarbrae  ",
                        "text/html": "<div>\n<style scoped>\n    .dataframe tbody tr th:only-of-type {\n        vertical-align: middle;\n    }\n\n    .dataframe tbody tr th {\n        vertical-align: top;\n    }\n\n    .dataframe thead th {\n        text-align: right;\n    }\n</style>\n<table border=\"1\" class=\"dataframe\">\n  <thead>\n    <tr style=\"text-align: right;\">\n      <th></th>\n      <th>PostalCode</th>\n      <th>Borough</th>\n      <th>Neighbourhood</th>\n      <th>address</th>\n    </tr>\n  </thead>\n  <tbody>\n    <tr>\n      <th>0</th>\n      <td>M1B</td>\n      <td>Scarborough</td>\n      <td>Malvern, Rouge</td>\n      <td>M1B,Scarborough,Malvern, Rouge</td>\n    </tr>\n    <tr>\n      <th>1</th>\n      <td>M1C</td>\n      <td>Scarborough</td>\n      <td>Rouge Hill, Port Union, Highland Creek</td>\n      <td>M1C,Scarborough,Rouge Hill, Port Union, Highla...</td>\n    </tr>\n    <tr>\n      <th>2</th>\n      <td>M1E</td>\n      <td>Scarborough</td>\n      <td>Guildwood, Morningside, West Hill</td>\n      <td>M1E,Scarborough,Guildwood, Morningside, West Hill</td>\n    </tr>\n    <tr>\n      <th>3</th>\n      <td>M1G</td>\n      <td>Scarborough</td>\n      <td>Woburn</td>\n      <td>M1G,Scarborough,Woburn</td>\n    </tr>\n    <tr>\n      <th>4</th>\n      <td>M1H</td>\n      <td>Scarborough</td>\n      <td>Cedarbrae</td>\n      <td>M1H,Scarborough,Cedarbrae</td>\n    </tr>\n  </tbody>\n</table>\n</div>"
                    },
                    "metadata": {}
                }
            ]
        },
        {
            "metadata": {},
            "cell_type": "code",
            "source": "nom = Nominatim()",
            "execution_count": 156,
            "outputs": [
                {
                    "output_type": "stream",
                    "text": "/opt/conda/envs/Python36/lib/python3.6/site-packages/ipykernel/__main__.py:1: DeprecationWarning: Using Nominatim with the default \"geopy/1.18.1\" `user_agent` is strongly discouraged, as it violates Nominatim's ToS https://operations.osmfoundation.org/policies/nominatim/ and may possibly cause 403 and 429 HTTP errors. Please specify a custom `user_agent` with `Nominatim(user_agent=\"my-application\")` or by overriding the default `user_agent`: `geopy.geocoders.options.default_user_agent = \"my-application\"`. In geopy 2.0 this will become an exception.\n  if __name__ == '__main__':\n",
                    "name": "stderr"
                }
            ]
        },
        {
            "metadata": {},
            "cell_type": "code",
            "source": "n=nom.geocode('M1B, Scarborough, Rouge,Malvern')\nn",
            "execution_count": 157,
            "outputs": []
        },
        {
            "metadata": {},
            "cell_type": "code",
            "source": "n3=nom.geocode(\"Toronto, Morningside\")\nn3",
            "execution_count": 158,
            "outputs": [
                {
                    "output_type": "execute_result",
                    "execution_count": 158,
                    "data": {
                        "text/plain": "Location(Morningside, Scarborough\u2014Guildwood, Scarborough, Toronto, Golden Horseshoe, Ontario, M1G 3K5, Canada, (43.7826012, -79.2049579, 0.0))"
                    },
                    "metadata": {}
                }
            ]
        },
        {
            "metadata": {},
            "cell_type": "code",
            "source": "df_geopy['Coordinates'] =df_geopy['address'].apply(nom.geocode)\ndf_geopy.head()",
            "execution_count": 159,
            "outputs": [
                {
                    "output_type": "execute_result",
                    "execution_count": 159,
                    "data": {
                        "text/plain": "  PostalCode      Borough                           Neighbourhood  \\\n0        M1B  Scarborough                          Malvern, Rouge   \n1        M1C  Scarborough  Rouge Hill, Port Union, Highland Creek   \n2        M1E  Scarborough       Guildwood, Morningside, West Hill   \n3        M1G  Scarborough                                  Woburn   \n4        M1H  Scarborough                               Cedarbrae   \n\n                                             address  \\\n0                     M1B,Scarborough,Malvern, Rouge   \n1  M1C,Scarborough,Rouge Hill, Port Union, Highla...   \n2  M1E,Scarborough,Guildwood, Morningside, West Hill   \n3                             M1G,Scarborough,Woburn   \n4                          M1H,Scarborough,Cedarbrae   \n\n                                         Coordinates  \n0                                               None  \n1                                               None  \n2                                               None  \n3  (Woburn, Scarborough\u2014Guildwood, Scarborough, T...  \n4                                               None  ",
                        "text/html": "<div>\n<style scoped>\n    .dataframe tbody tr th:only-of-type {\n        vertical-align: middle;\n    }\n\n    .dataframe tbody tr th {\n        vertical-align: top;\n    }\n\n    .dataframe thead th {\n        text-align: right;\n    }\n</style>\n<table border=\"1\" class=\"dataframe\">\n  <thead>\n    <tr style=\"text-align: right;\">\n      <th></th>\n      <th>PostalCode</th>\n      <th>Borough</th>\n      <th>Neighbourhood</th>\n      <th>address</th>\n      <th>Coordinates</th>\n    </tr>\n  </thead>\n  <tbody>\n    <tr>\n      <th>0</th>\n      <td>M1B</td>\n      <td>Scarborough</td>\n      <td>Malvern, Rouge</td>\n      <td>M1B,Scarborough,Malvern, Rouge</td>\n      <td>None</td>\n    </tr>\n    <tr>\n      <th>1</th>\n      <td>M1C</td>\n      <td>Scarborough</td>\n      <td>Rouge Hill, Port Union, Highland Creek</td>\n      <td>M1C,Scarborough,Rouge Hill, Port Union, Highla...</td>\n      <td>None</td>\n    </tr>\n    <tr>\n      <th>2</th>\n      <td>M1E</td>\n      <td>Scarborough</td>\n      <td>Guildwood, Morningside, West Hill</td>\n      <td>M1E,Scarborough,Guildwood, Morningside, West Hill</td>\n      <td>None</td>\n    </tr>\n    <tr>\n      <th>3</th>\n      <td>M1G</td>\n      <td>Scarborough</td>\n      <td>Woburn</td>\n      <td>M1G,Scarborough,Woburn</td>\n      <td>(Woburn, Scarborough\u2014Guildwood, Scarborough, T...</td>\n    </tr>\n    <tr>\n      <th>4</th>\n      <td>M1H</td>\n      <td>Scarborough</td>\n      <td>Cedarbrae</td>\n      <td>M1H,Scarborough,Cedarbrae</td>\n      <td>None</td>\n    </tr>\n  </tbody>\n</table>\n</div>"
                    },
                    "metadata": {}
                }
            ]
        },
        {
            "metadata": {},
            "cell_type": "code",
            "source": "df_geopy.info()",
            "execution_count": 160,
            "outputs": [
                {
                    "output_type": "stream",
                    "text": "<class 'pandas.core.frame.DataFrame'>\nInt64Index: 103 entries, 0 to 102\nData columns (total 5 columns):\nPostalCode       103 non-null object\nBorough          103 non-null object\nNeighbourhood    103 non-null object\naddress          103 non-null object\nCoordinates      3 non-null object\ndtypes: object(5)\nmemory usage: 4.8+ KB\n",
                    "name": "stdout"
                }
            ]
        },
        {
            "metadata": {},
            "cell_type": "code",
            "source": "df_geopy.Coordinates[0]",
            "execution_count": 161,
            "outputs": []
        },
        {
            "metadata": {},
            "cell_type": "code",
            "source": "print(df_geopy.Coordinates[1])",
            "execution_count": 162,
            "outputs": [
                {
                    "output_type": "stream",
                    "text": "None\n",
                    "name": "stdout"
                }
            ]
        },
        {
            "metadata": {},
            "cell_type": "code",
            "source": "df_geopy['latitude']=df_geopy['Coordinates'].apply(lambda x: x.latitude if x !=None else None)\ndf_geopy['longitude']=df_geopy['Coordinates'].apply(lambda x: x.longitude if x !=None else None)\ndf_geopy.head()",
            "execution_count": 163,
            "outputs": [
                {
                    "output_type": "execute_result",
                    "execution_count": 163,
                    "data": {
                        "text/plain": "  PostalCode      Borough                           Neighbourhood  \\\n0        M1B  Scarborough                          Malvern, Rouge   \n1        M1C  Scarborough  Rouge Hill, Port Union, Highland Creek   \n2        M1E  Scarborough       Guildwood, Morningside, West Hill   \n3        M1G  Scarborough                                  Woburn   \n4        M1H  Scarborough                               Cedarbrae   \n\n                                             address  \\\n0                     M1B,Scarborough,Malvern, Rouge   \n1  M1C,Scarborough,Rouge Hill, Port Union, Highla...   \n2  M1E,Scarborough,Guildwood, Morningside, West Hill   \n3                             M1G,Scarborough,Woburn   \n4                          M1H,Scarborough,Cedarbrae   \n\n                                         Coordinates   latitude  longitude  \n0                                               None        NaN        NaN  \n1                                               None        NaN        NaN  \n2                                               None        NaN        NaN  \n3  (Woburn, Scarborough\u2014Guildwood, Scarborough, T...  43.759824 -79.225291  \n4                                               None        NaN        NaN  ",
                        "text/html": "<div>\n<style scoped>\n    .dataframe tbody tr th:only-of-type {\n        vertical-align: middle;\n    }\n\n    .dataframe tbody tr th {\n        vertical-align: top;\n    }\n\n    .dataframe thead th {\n        text-align: right;\n    }\n</style>\n<table border=\"1\" class=\"dataframe\">\n  <thead>\n    <tr style=\"text-align: right;\">\n      <th></th>\n      <th>PostalCode</th>\n      <th>Borough</th>\n      <th>Neighbourhood</th>\n      <th>address</th>\n      <th>Coordinates</th>\n      <th>latitude</th>\n      <th>longitude</th>\n    </tr>\n  </thead>\n  <tbody>\n    <tr>\n      <th>0</th>\n      <td>M1B</td>\n      <td>Scarborough</td>\n      <td>Malvern, Rouge</td>\n      <td>M1B,Scarborough,Malvern, Rouge</td>\n      <td>None</td>\n      <td>NaN</td>\n      <td>NaN</td>\n    </tr>\n    <tr>\n      <th>1</th>\n      <td>M1C</td>\n      <td>Scarborough</td>\n      <td>Rouge Hill, Port Union, Highland Creek</td>\n      <td>M1C,Scarborough,Rouge Hill, Port Union, Highla...</td>\n      <td>None</td>\n      <td>NaN</td>\n      <td>NaN</td>\n    </tr>\n    <tr>\n      <th>2</th>\n      <td>M1E</td>\n      <td>Scarborough</td>\n      <td>Guildwood, Morningside, West Hill</td>\n      <td>M1E,Scarborough,Guildwood, Morningside, West Hill</td>\n      <td>None</td>\n      <td>NaN</td>\n      <td>NaN</td>\n    </tr>\n    <tr>\n      <th>3</th>\n      <td>M1G</td>\n      <td>Scarborough</td>\n      <td>Woburn</td>\n      <td>M1G,Scarborough,Woburn</td>\n      <td>(Woburn, Scarborough\u2014Guildwood, Scarborough, T...</td>\n      <td>43.759824</td>\n      <td>-79.225291</td>\n    </tr>\n    <tr>\n      <th>4</th>\n      <td>M1H</td>\n      <td>Scarborough</td>\n      <td>Cedarbrae</td>\n      <td>M1H,Scarborough,Cedarbrae</td>\n      <td>None</td>\n      <td>NaN</td>\n      <td>NaN</td>\n    </tr>\n  </tbody>\n</table>\n</div>"
                    },
                    "metadata": {}
                }
            ]
        },
        {
            "metadata": {},
            "cell_type": "code",
            "source": "df_geopy.to_csv('geo_loc_py.csv')",
            "execution_count": 164,
            "outputs": []
        },
        {
            "metadata": {},
            "cell_type": "code",
            "source": "print('The latitude of', df_geopy.address[3],  'is', df_geopy.latitude[3], 'and its longitude is',df_geopy.longitude[3])",
            "execution_count": 165,
            "outputs": [
                {
                    "output_type": "stream",
                    "text": "The latitude of M1G,Scarborough,Woburn is 43.7598243 and its longitude is -79.2252908\n",
                    "name": "stdout"
                }
            ]
        },
        {
            "metadata": {},
            "cell_type": "code",
            "source": " \nimport pandas as pd \n\ndata2 = pd.read_csv(\"geopy.csv\") \n\ndata2.head()\n",
            "execution_count": 166,
            "outputs": [
                {
                    "output_type": "execute_result",
                    "execution_count": 166,
                    "data": {
                        "text/plain": "   Unnamed: 0 PostalCode      Borough                           Neighbourhood  \\\n0           0        M1B  Scarborough                          Malvern, Rouge   \n1           1        M1C  Scarborough  Rouge Hill, Port Union, Highland Creek   \n2           2        M1E  Scarborough       Guildwood, Morningside, West Hill   \n3           3        M1G  Scarborough                                  Woburn   \n4           4        M1H  Scarborough                               Cedarbrae   \n\n                                             address  \n0                   M1B, Scarborough, Malvern, Rouge  \n1  M1C, Scarborough, Rouge Hill, Port Union, High...  \n2  M1E, Scarborough, Guildwood, Morningside, West...  \n3                           M1G, Scarborough, Woburn  \n4                        M1H, Scarborough, Cedarbrae  ",
                        "text/html": "<div>\n<style scoped>\n    .dataframe tbody tr th:only-of-type {\n        vertical-align: middle;\n    }\n\n    .dataframe tbody tr th {\n        vertical-align: top;\n    }\n\n    .dataframe thead th {\n        text-align: right;\n    }\n</style>\n<table border=\"1\" class=\"dataframe\">\n  <thead>\n    <tr style=\"text-align: right;\">\n      <th></th>\n      <th>Unnamed: 0</th>\n      <th>PostalCode</th>\n      <th>Borough</th>\n      <th>Neighbourhood</th>\n      <th>address</th>\n    </tr>\n  </thead>\n  <tbody>\n    <tr>\n      <th>0</th>\n      <td>0</td>\n      <td>M1B</td>\n      <td>Scarborough</td>\n      <td>Malvern, Rouge</td>\n      <td>M1B, Scarborough, Malvern, Rouge</td>\n    </tr>\n    <tr>\n      <th>1</th>\n      <td>1</td>\n      <td>M1C</td>\n      <td>Scarborough</td>\n      <td>Rouge Hill, Port Union, Highland Creek</td>\n      <td>M1C, Scarborough, Rouge Hill, Port Union, High...</td>\n    </tr>\n    <tr>\n      <th>2</th>\n      <td>2</td>\n      <td>M1E</td>\n      <td>Scarborough</td>\n      <td>Guildwood, Morningside, West Hill</td>\n      <td>M1E, Scarborough, Guildwood, Morningside, West...</td>\n    </tr>\n    <tr>\n      <th>3</th>\n      <td>3</td>\n      <td>M1G</td>\n      <td>Scarborough</td>\n      <td>Woburn</td>\n      <td>M1G, Scarborough, Woburn</td>\n    </tr>\n    <tr>\n      <th>4</th>\n      <td>4</td>\n      <td>M1H</td>\n      <td>Scarborough</td>\n      <td>Cedarbrae</td>\n      <td>M1H, Scarborough, Cedarbrae</td>\n    </tr>\n  </tbody>\n</table>\n</div>"
                    },
                    "metadata": {}
                }
            ]
        }
    ],
    "metadata": {
        "kernelspec": {
            "name": "python3",
            "display_name": "Python 3.6",
            "language": "python"
        },
        "language_info": {
            "name": "python",
            "version": "3.6.9",
            "mimetype": "text/x-python",
            "codemirror_mode": {
                "name": "ipython",
                "version": 3
            },
            "pygments_lexer": "ipython3",
            "nbconvert_exporter": "python",
            "file_extension": ".py"
        }
    },
    "nbformat": 4,
    "nbformat_minor": 1
}